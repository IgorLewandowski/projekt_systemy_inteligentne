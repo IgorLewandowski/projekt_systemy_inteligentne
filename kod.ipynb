{
 "cells": [
  {
   "cell_type": "code",
   "execution_count": 1,
   "id": "52c8518d",
   "metadata": {},
   "outputs": [],
   "source": [
    "Pracownicy = 3"
   ]
  },
  {
   "cell_type": "code",
   "execution_count": 2,
   "id": "7db7016f",
   "metadata": {},
   "outputs": [],
   "source": [
    "from itertools import product"
   ]
  },
  {
   "cell_type": "code",
   "execution_count": 3,
   "id": "cf8b6920",
   "metadata": {},
   "outputs": [],
   "source": [
    "def Oszacowanie(scenariusz,pracownicy):\n",
    "    return sum(scenariusz)/pracownicy"
   ]
  },
  {
   "cell_type": "code",
   "execution_count": 4,
   "id": "41644086",
   "metadata": {},
   "outputs": [],
   "source": [
    "def scenariusze_dla_decyzji(decyzja,pracownicy):\n",
    "    scenariusze=[]\n",
    "    for i in range (pracownicy):\n",
    "        scenariusz=[]\n",
    "        for j in range (len(decyzja)):\n",
    "            if decyzja[j]==i:\n",
    "                scenariusz.append(Zadania[j][1])\n",
    "            else:\n",
    "                scenariusz.append(Zadania[j][0])\n",
    "        scenariusze.append(scenariusz)\n",
    "    return scenariusze"
   ]
  },
  {
   "cell_type": "code",
   "execution_count": 5,
   "id": "bbaeb585",
   "metadata": {},
   "outputs": [],
   "source": [
    "def wynik_prac_dec_scen(scenariusz,decyzja,pracownicy):\n",
    "    wynik=0\n",
    "    for i in range (pracownicy):\n",
    "        curr=0\n",
    "        for j in range (len(scenariusz)):\n",
    "            if decyzja[j]==i:\n",
    "                curr += scenariusz[j]\n",
    "        if curr>wynik:\n",
    "            wynik=curr\n",
    "    return wynik"
   ]
  },
  {
   "cell_type": "code",
   "execution_count": 6,
   "id": "c8da67c4",
   "metadata": {},
   "outputs": [],
   "source": [
    "def wynik_prac_dec(decyzja, pracownicy):\n",
    "    wynik=0\n",
    "    scenariusze=scenariusze_dla_decyzji(decyzja,pracownicy)\n",
    "    for i in range (len(scenariusze)):\n",
    "        curr = wynik_prac_dec_scen(scenariusze[i],decyzja,pracownicy) - Oszacowanie(scenariusze[i],pracownicy)\n",
    "        if curr>wynik:\n",
    "            wynik=curr\n",
    "            sc=scenariusze[i]\n",
    "    return wynik,sc"
   ]
  },
  {
   "cell_type": "code",
   "execution_count": 7,
   "id": "fa5e69c8",
   "metadata": {},
   "outputs": [],
   "source": [
    "import math\n",
    "def wyniki_dla_zadanych_decyzji(decyzje, pracownicy):\n",
    "    wynik=math.inf\n",
    "    for i in range (len(decyzje)):\n",
    "        curr,a=wynik_prac_dec(decyzje[i], pracownicy)\n",
    "        if curr<wynik:\n",
    "            wynik=curr\n",
    "            najlepsza=decyzje[i]\n",
    "    return wynik,najlepsza"
   ]
  },
  {
   "cell_type": "code",
   "execution_count": 8,
   "id": "839d083d",
   "metadata": {},
   "outputs": [],
   "source": [
    "import numpy as np\n",
    "import random\n",
    "import math"
   ]
  },
  {
   "cell_type": "code",
   "execution_count": 9,
   "id": "beda2e4b",
   "metadata": {},
   "outputs": [],
   "source": [
    "def next_pracownik(decyzja_index,pracownicy):\n",
    "    wynik =[]\n",
    "    p=[]\n",
    "    for i in range(pracownicy):\n",
    "        curr=0\n",
    "        for j in range(len(decyzja_index)):\n",
    "            if decyzja_index[j][2]==i:\n",
    "                curr += decyzja_index[j][0]\n",
    "        p.append(curr)\n",
    "    wynik.append(np.argmin(p))\n",
    "    return wynik"
   ]
  },
  {
   "cell_type": "code",
   "execution_count": 10,
   "id": "66205252",
   "metadata": {},
   "outputs": [],
   "source": [
    "def greedy(scenariusz, pracownicy):\n",
    "    decyzja_index = []\n",
    "    \n",
    "    li=[]                                  #[[dlugosc zadania,index zadania],[],[]]\n",
    "    for i in range(len(scenariusz)):\n",
    "          li.append([scenariusz[i],i])\n",
    "    li.sort()\n",
    "    for i in range(len(scenariusz)):\n",
    "        if decyzja_index == []:\n",
    "            decyzja_index.append(li[i]+[0])\n",
    "        else:\n",
    "            decyzja_index.append(li[i]+next_pracownik(decyzja_index,pracownicy))\n",
    "    #print(decyzja_index)\n",
    "    decyzja=[]\n",
    "    decyzja_index=np.array(decyzja_index)[np.array(decyzja_index)[:, 1].argsort()]\n",
    "    for i in range(len(decyzja_index)):\n",
    "        decyzja.append(decyzja_index[i][2])\n",
    "    return decyzja"
   ]
  },
  {
   "cell_type": "code",
   "execution_count": 11,
   "id": "709091c1",
   "metadata": {},
   "outputs": [],
   "source": [
    "def seed_generation(scenariusz, pracownicy, decyzja):          #uzywany w wyzarzaniu\n",
    "    \n",
    "    PMS = 9999999999                                  #previous makespan\n",
    "    MS = 0\n",
    "    while MS<PMS:\n",
    "        #znalezc pracownika gdzie czas pracy jest najdluzszy\n",
    "        p=[]\n",
    "        for i in range(pracownicy):\n",
    "            curr=0\n",
    "            for j in range(len(decyzja)):\n",
    "                if decyzja[j]==i:\n",
    "                    curr += scenariusz[j]\n",
    "            p.append(curr)\n",
    "        R = np.argmin(p)                                  #R - pracownik ktory najdluzej robi\n",
    "        \n",
    "        MS = wynik_prac_dec_scen(scenariusz,decyzja,pracownicy)\n",
    "        PMS = MS\n",
    "        \n",
    "        \n",
    "        #lista zadan w R\n",
    "        lzwR = []\n",
    "        for i in range(len(decyzja)):\n",
    "            if decyzja[i] == R:\n",
    "                lzwR.append(i)\n",
    "                \n",
    "        #zamieniamy zadania\n",
    "        for i in range(len(decyzja)):\n",
    "            d_temp = decyzja\n",
    "            if decyzja[i] != R:\n",
    "                for j in lzwR:\n",
    "                    d_temp[i],d_temp[j] = d_temp[j],d_temp[i] \n",
    "                    new_MS = wynik_prac_dec_scen(scenariusz,d_temp,pracownicy)\n",
    "                    if new_MS < MS:\n",
    "                        decyzja = d_temp\n",
    "                        MS = new_MS\n",
    "                        \n",
    "        \n",
    "    return decyzja"
   ]
  },
  {
   "cell_type": "code",
   "execution_count": 12,
   "id": "54a05401",
   "metadata": {},
   "outputs": [],
   "source": [
    "def annealing(scenariusz, pracownicy, T=60, r=0.85, delta=0.01):\n",
    "    S0 =seed_generation(scenariusz, pracownicy,greedy(scenariusz, pracownicy))\n",
    "    while T > delta:\n",
    "        p_list=[]\n",
    "        for i in range(pracownicy):\n",
    "            p_list.append(i)\n",
    "\n",
    "        #generate S1\n",
    "        R = np.random.uniform(0, 0.99)\n",
    "        if R<=0.49:#zamiana\n",
    "            p1,p2 = 0,0\n",
    "            z1,z2 = [],[]\n",
    "            p1 = random.choice(p_list) #losowy pracownik\n",
    "            p_list.remove(p1)\n",
    "            p2 = random.choice(p_list) #drugi losowy pracownik(inny)\n",
    "\n",
    "            for i in range(len(S0)):\n",
    "                if i == p1:\n",
    "                    z1.append(i)\n",
    "                if i == p2:\n",
    "                    z2.append(i)\n",
    "\n",
    "            zad_a,zad_b = random.choice(z1),random.choice(z2) #losowe zadania ktore sa wykonywane przez wylosowanych pracowników\n",
    "            S1 = S0\n",
    "            S1[zad_a],S1[zad_b] = S1[zad_b],S1[zad_a]         #zamiana tych zadan\n",
    "\n",
    "        else:#transfer\n",
    "            p1 = 0\n",
    "            z1 = []\n",
    "            p1 = random.choice(p_list) #losowy pracownik\n",
    "            p_list.remove(p1)\n",
    "            p = random.choice(p_list)\n",
    "            for i in range(len(S0)):\n",
    "                if i == p1:\n",
    "                    z1.append(i)\n",
    "            zad = random.choice(z1)    #losowe zadanie\n",
    "            S1 = S0\n",
    "            \n",
    "            S1[zad]= S1[p] #transfer wylosowanego zadania do innego pracownika\n",
    "\n",
    "\n",
    "        d = wynik_prac_dec_scen(scenariusz,S0,pracownicy) - wynik_prac_dec_scen(scenariusz,S1,pracownicy)\n",
    "        if d>0:\n",
    "            S0=S1\n",
    "        else:\n",
    "            R = np.random.uniform(0, 0.99)\n",
    "            if R < math.e*(d/T):\n",
    "                S0=S1\n",
    "        T = r*T\n",
    "    final_local_optimum = seed_generation(scenariusz, pracownicy, S0)\n",
    "    return final_local_optimum"
   ]
  },
  {
   "cell_type": "code",
   "execution_count": 13,
   "id": "ae355848",
   "metadata": {},
   "outputs": [],
   "source": [
    "#DLA 10 i 100 ZADAŃ"
   ]
  },
  {
   "cell_type": "code",
   "execution_count": 14,
   "id": "a7746087",
   "metadata": {},
   "outputs": [],
   "source": [
    "def gen_zad(lower, higher, n):\n",
    "    zadania = []\n",
    "    for i in range(n):\n",
    "        low = random.randint(lower,higher)\n",
    "        high = random.randint(low,higher)\n",
    "        zadania.append([low,high])\n",
    "    return zadania"
   ]
  },
  {
   "cell_type": "code",
   "execution_count": 15,
   "id": "63b047a4",
   "metadata": {},
   "outputs": [],
   "source": [
    "zad10 = gen_zad(1,10,10)\n",
    "zad50 = gen_zad(1,10,50)"
   ]
  },
  {
   "cell_type": "code",
   "execution_count": 16,
   "id": "d3f5dd0c",
   "metadata": {},
   "outputs": [
    {
     "name": "stdout",
     "output_type": "stream",
     "text": [
      "[[1, 2], [3, 6], [1, 5], [4, 9], [8, 10], [10, 10], [7, 7], [5, 10], [1, 7], [5, 6]]\n"
     ]
    }
   ],
   "source": [
    "print(zad10)\n",
    "#print(zad50)"
   ]
  },
  {
   "cell_type": "code",
   "execution_count": 17,
   "id": "29031a9c",
   "metadata": {},
   "outputs": [],
   "source": [
    "#10 zadan"
   ]
  },
  {
   "cell_type": "code",
   "execution_count": 18,
   "id": "86ac2fba",
   "metadata": {},
   "outputs": [],
   "source": [
    "Scenariusz_min = []\n",
    "Scenariusz_max = []\n",
    "Scenariusz_avg = []\n",
    "\n",
    "for i in range (len(zad10)):\n",
    "        Scenariusz_min.append(zad10[i][0])\n",
    "        Scenariusz_max.append(zad10[i][1])\n",
    "        Scenariusz_avg.append((zad10[i][0] + zad10[i][1])/2)"
   ]
  },
  {
   "cell_type": "code",
   "execution_count": 19,
   "id": "6e73199d",
   "metadata": {},
   "outputs": [],
   "source": [
    "Zadania = zad10"
   ]
  },
  {
   "cell_type": "code",
   "execution_count": 20,
   "id": "03d593f5",
   "metadata": {},
   "outputs": [],
   "source": [
    "Scenariusze_minmaxavg = [Scenariusz_min, Scenariusz_max, Scenariusz_avg]"
   ]
  },
  {
   "cell_type": "code",
   "execution_count": 21,
   "id": "aa2a08fb",
   "metadata": {},
   "outputs": [],
   "source": [
    "min_greedy,max_greedy,avg_greedy,min_seed,max_seed,avg_seed,min_ann,max_ann,avg_ann = greedy(Scenariusz_min,Pracownicy),greedy(Scenariusz_max,Pracownicy),greedy(Scenariusz_avg,Pracownicy),seed_generation(Scenariusz_min,Pracownicy,greedy(Scenariusz_min,Pracownicy)),seed_generation(Scenariusz_max,Pracownicy,greedy(Scenariusz_max,Pracownicy)),seed_generation(Scenariusz_avg,Pracownicy,greedy(Scenariusz_avg,Pracownicy)),annealing(Scenariusz_min,Pracownicy),annealing(Scenariusz_max,Pracownicy),annealing(Scenariusz_avg,Pracownicy),\n"
   ]
  },
  {
   "cell_type": "code",
   "execution_count": 22,
   "id": "c8ccb40f",
   "metadata": {},
   "outputs": [
    {
     "name": "stdout",
     "output_type": "stream",
     "text": [
      "(7.666666666666668, [0, 0, 1, 1, 2, 0, 1, 2, 2, 0])\n"
     ]
    }
   ],
   "source": [
    "print(wyniki_dla_zadanych_decyzji([min_greedy,max_greedy,avg_greedy,min_seed,max_seed,avg_seed,min_ann,max_ann,avg_ann],Pracownicy))"
   ]
  },
  {
   "cell_type": "code",
   "execution_count": 23,
   "id": "39342688",
   "metadata": {},
   "outputs": [],
   "source": [
    "Z_min_greedy,Z_max_greedy,Z_avg_greedy,Z_min_seed,Z_max_seed,Z_avg_seed,Z_min_ann,Z_max_ann,Z_avg_ann = wynik_prac_dec(min_greedy,Pracownicy),wynik_prac_dec(max_greedy,Pracownicy),wynik_prac_dec(avg_greedy,Pracownicy),wynik_prac_dec(min_seed,Pracownicy),wynik_prac_dec(max_seed,Pracownicy),wynik_prac_dec(avg_seed,Pracownicy),wynik_prac_dec(min_ann,Pracownicy),wynik_prac_dec(max_ann,Pracownicy),wynik_prac_dec(avg_ann,Pracownicy)"
   ]
  },
  {
   "cell_type": "code",
   "execution_count": 24,
   "id": "69593b17",
   "metadata": {},
   "outputs": [
    {
     "name": "stdout",
     "output_type": "stream",
     "text": [
      "(7.666666666666668, [1, 3, 1, 4, 10, 10, 7, 10, 7, 5])\n",
      "(8.0, [2, 3, 1, 9, 8, 10, 7, 10, 1, 6])\n",
      "(8.666666666666668, [2, 6, 1, 4, 8, 10, 7, 5, 1, 5])\n",
      "(15.333333333333332, [1, 3, 5, 9, 10, 10, 7, 5, 1, 5])\n",
      "(10.0, [1, 3, 1, 4, 10, 10, 7, 5, 1, 6])\n",
      "(12.333333333333332, [1, 3, 1, 9, 10, 10, 7, 5, 7, 6])\n",
      "(20.333333333333332, [1, 3, 5, 9, 10, 10, 7, 5, 7, 5])\n",
      "(16.333333333333332, [1, 3, 1, 4, 10, 10, 7, 5, 7, 5])\n",
      "(15.333333333333332, [1, 3, 1, 4, 8, 10, 7, 10, 7, 5])\n"
     ]
    }
   ],
   "source": [
    "Z_list = [Z_min_greedy,Z_max_greedy,Z_avg_greedy,Z_min_seed,Z_max_seed,Z_avg_seed,Z_min_ann,Z_max_ann,Z_avg_ann]\n",
    "for i in range(len(Z_list)):\n",
    "    print(Z_list[i])\n",
    "#To ci wyliczy ŻALE"
   ]
  },
  {
   "cell_type": "code",
   "execution_count": 25,
   "id": "11b6250e",
   "metadata": {},
   "outputs": [],
   "source": [
    "x10 = []\n",
    "for i in range(len(Z_list)):\n",
    "    x10.append(Z_list[i][0])\n",
    "#To ci wyliczy ŻALE"
   ]
  },
  {
   "cell_type": "code",
   "execution_count": 26,
   "id": "d890d1c3",
   "metadata": {},
   "outputs": [],
   "source": [
    "#50 zadan"
   ]
  },
  {
   "cell_type": "code",
   "execution_count": 27,
   "id": "aec9286c",
   "metadata": {},
   "outputs": [],
   "source": [
    "Scenariusz_min = []\n",
    "Scenariusz_max = []\n",
    "Scenariusz_avg = []\n",
    "\n",
    "for i in range (len(zad50)):\n",
    "        Scenariusz_min.append(zad50[i][0])\n",
    "        Scenariusz_max.append(zad50[i][1])\n",
    "        Scenariusz_avg.append((zad50[i][0] + zad50[i][1])/2)"
   ]
  },
  {
   "cell_type": "code",
   "execution_count": 28,
   "id": "2d8ee2d1",
   "metadata": {},
   "outputs": [],
   "source": [
    "Zadania = zad50"
   ]
  },
  {
   "cell_type": "code",
   "execution_count": 29,
   "id": "303daeba",
   "metadata": {},
   "outputs": [],
   "source": [
    "Scenariusze_minmaxavg = [Scenariusz_min, Scenariusz_max, Scenariusz_avg]"
   ]
  },
  {
   "cell_type": "code",
   "execution_count": 30,
   "id": "cd6b8b74",
   "metadata": {},
   "outputs": [],
   "source": [
    "min_greedy,max_greedy,avg_greedy,min_seed,max_seed,avg_seed,min_ann,max_ann,avg_ann = greedy(Scenariusz_min,Pracownicy),greedy(Scenariusz_max,Pracownicy),greedy(Scenariusz_avg,Pracownicy),seed_generation(Scenariusz_min,Pracownicy,greedy(Scenariusz_min,Pracownicy)),seed_generation(Scenariusz_max,Pracownicy,greedy(Scenariusz_max,Pracownicy)),seed_generation(Scenariusz_avg,Pracownicy,greedy(Scenariusz_avg,Pracownicy)),annealing(Scenariusz_min,Pracownicy),annealing(Scenariusz_max,Pracownicy),annealing(Scenariusz_avg,Pracownicy),\n"
   ]
  },
  {
   "cell_type": "code",
   "execution_count": 31,
   "id": "c1df69b7",
   "metadata": {},
   "outputs": [
    {
     "name": "stdout",
     "output_type": "stream",
     "text": [
      "(26.33333333333333, [2.0, 0.0, 0.0, 1.0, 2.0, 0.0, 1.0, 0.0, 1.0, 2.0, 2.0, 2.0, 0.0, 0.0, 0.0, 1.0, 0.0, 0.0, 1.0, 2.0, 2.0, 1.0, 0.0, 1.0, 0.0, 2.0, 2.0, 1.0, 2.0, 1.0, 0.0, 0.0, 2.0, 2.0, 1.0, 0.0, 0.0, 2.0, 1.0, 1.0, 1.0, 0.0, 0.0, 1.0, 2.0, 1.0, 1.0, 1.0, 2.0, 2.0])\n"
     ]
    }
   ],
   "source": [
    "print(wyniki_dla_zadanych_decyzji([min_greedy,max_greedy,avg_greedy,min_seed,max_seed,avg_seed,min_ann,max_ann,avg_ann],Pracownicy))"
   ]
  },
  {
   "cell_type": "code",
   "execution_count": 32,
   "id": "c54bd372",
   "metadata": {},
   "outputs": [],
   "source": [
    "Z_min_greedy,Z_max_greedy,Z_avg_greedy,Z_min_seed,Z_max_seed,Z_avg_seed,Z_min_ann,Z_max_ann,Z_avg_ann = wynik_prac_dec(min_greedy,Pracownicy),wynik_prac_dec(max_greedy,Pracownicy),wynik_prac_dec(avg_greedy,Pracownicy),wynik_prac_dec(min_seed,Pracownicy),wynik_prac_dec(max_seed,Pracownicy),wynik_prac_dec(avg_seed,Pracownicy),wynik_prac_dec(min_ann,Pracownicy),wynik_prac_dec(max_ann,Pracownicy),wynik_prac_dec(avg_ann,Pracownicy)"
   ]
  },
  {
   "cell_type": "code",
   "execution_count": 33,
   "id": "7c3d40bd",
   "metadata": {},
   "outputs": [
    {
     "name": "stdout",
     "output_type": "stream",
     "text": [
      "(31.66666666666667, [7, 1, 5, 4, 7, 10, 10, 8, 8, 10, 5, 10, 7, 10, 10, 3, 5, 6, 2, 6, 8, 6, 4, 8, 10, 5, 10, 9, 3, 2, 8, 5, 10, 3, 5, 7, 1, 6, 8, 1, 10, 6, 9, 8, 8, 7, 3, 10, 9, 5])\n",
      "(28.66666666666667, [7, 1, 5, 4, 7, 10, 10, 8, 8, 10, 5, 10, 2, 3, 10, 9, 6, 6, 2, 4, 8, 5, 6, 8, 8, 5, 10, 9, 1, 2, 9, 5, 5, 3, 5, 8, 1, 6, 6, 2, 10, 6, 9, 8, 3, 8, 9, 9, 10, 5])\n",
      "(26.33333333333333, [7, 1, 5, 4, 6, 10, 10, 8, 8, 5, 5, 10, 2, 3, 10, 9, 5, 6, 8, 4, 8, 6, 4, 8, 8, 5, 9, 9, 1, 8, 8, 5, 5, 3, 8, 7, 1, 6, 8, 2, 10, 6, 9, 9, 3, 8, 9, 10, 9, 5])\n",
      "(26.66666666666667, [9, 2, 7, 4, 7, 10, 10, 8, 8, 10, 6, 10, 7, 10, 10, 9, 6, 6, 2, 4, 8, 5, 4, 7, 8, 5, 9, 9, 1, 2, 8, 5, 5, 3, 5, 7, 1, 6, 6, 1, 10, 6, 9, 8, 3, 7, 3, 9, 9, 5])\n",
      "(29.0, [7, 1, 5, 4, 6, 10, 10, 8, 8, 5, 5, 10, 7, 3, 10, 3, 5, 9, 2, 4, 8, 5, 6, 7, 8, 5, 9, 9, 3, 2, 9, 9, 10, 3, 5, 7, 1, 10, 6, 2, 10, 6, 10, 9, 8, 7, 9, 10, 10, 5])\n",
      "(26.66666666666667, [9, 2, 7, 4, 7, 10, 10, 8, 8, 10, 6, 10, 7, 10, 10, 9, 6, 6, 2, 4, 8, 5, 4, 7, 8, 5, 9, 9, 1, 2, 8, 5, 5, 3, 5, 7, 1, 6, 6, 1, 10, 6, 9, 8, 3, 7, 3, 9, 9, 5])\n",
      "(27.0, [7, 1, 5, 4, 6, 10, 10, 8, 8, 5, 5, 10, 2, 3, 10, 3, 5, 6, 2, 6, 10, 5, 6, 7, 8, 5, 9, 9, 3, 2, 9, 5, 10, 5, 5, 7, 3, 10, 8, 1, 10, 6, 10, 9, 8, 7, 3, 10, 10, 8])\n",
      "(29.66666666666667, [7, 1, 5, 4, 6, 10, 10, 8, 8, 5, 5, 10, 7, 3, 10, 3, 5, 9, 2, 4, 10, 5, 4, 7, 8, 5, 9, 9, 3, 2, 9, 5, 10, 5, 5, 8, 3, 10, 6, 1, 10, 6, 9, 9, 3, 8, 3, 10, 10, 8])\n",
      "(26.66666666666667, [9, 2, 7, 4, 7, 10, 10, 8, 8, 10, 6, 10, 7, 10, 10, 9, 6, 6, 2, 4, 8, 5, 4, 7, 8, 5, 9, 9, 1, 2, 8, 5, 5, 3, 5, 7, 1, 6, 6, 1, 10, 6, 9, 8, 3, 7, 3, 9, 9, 5])\n"
     ]
    }
   ],
   "source": [
    "Z_list = [Z_min_greedy,Z_max_greedy,Z_avg_greedy,Z_min_seed,Z_max_seed,Z_avg_seed,Z_min_ann,Z_max_ann,Z_avg_ann]\n",
    "for i in range(len(Z_list)):\n",
    "    print(Z_list[i])\n",
    "#To ci wyliczy ŻALE"
   ]
  },
  {
   "cell_type": "code",
   "execution_count": 34,
   "id": "4b71aed6",
   "metadata": {},
   "outputs": [],
   "source": [
    "x50 = []\n",
    "for i in range(len(Z_list)):\n",
    "    x50.append(Z_list[i][0])\n",
    "#To ci wyliczy ŻALE"
   ]
  },
  {
   "cell_type": "code",
   "execution_count": 35,
   "id": "e30941bd",
   "metadata": {},
   "outputs": [
    {
     "name": "stdout",
     "output_type": "stream",
     "text": [
      "[7.666666666666668, 8.0, 8.666666666666668, 15.333333333333332, 10.0, 12.333333333333332, 20.333333333333332, 16.333333333333332, 15.333333333333332]\n"
     ]
    }
   ],
   "source": [
    "print(x10)"
   ]
  },
  {
   "cell_type": "code",
   "execution_count": 36,
   "id": "de70c266",
   "metadata": {},
   "outputs": [
    {
     "name": "stdout",
     "output_type": "stream",
     "text": [
      "[31.66666666666667, 28.66666666666667, 26.33333333333333, 26.66666666666667, 29.0, 26.66666666666667, 27.0, 29.66666666666667, 26.66666666666667]\n"
     ]
    }
   ],
   "source": [
    "print(x50)"
   ]
  },
  {
   "cell_type": "code",
   "execution_count": 37,
   "id": "b75f2dd3",
   "metadata": {},
   "outputs": [],
   "source": [
    "import matplotlib.pyplot as plt"
   ]
  },
  {
   "cell_type": "code",
   "execution_count": 39,
   "id": "cf63ea75",
   "metadata": {},
   "outputs": [],
   "source": [
    "columns = (\"min_greedy\",\"max_greedy\",\"avg_greedy\",\"min_seed\",\"max_seed\",\"avg_seed\",\"min_ann\",\"max_ann\",\"avg_ann\")"
   ]
  },
  {
   "cell_type": "code",
   "execution_count": 49,
   "id": "174e52b0",
   "metadata": {},
   "outputs": [
    {
     "data": {
      "image/png": "[encoded data removed]",
      "text/plain": [
       "<Figure size 1800x600 with 1 Axes>"
      ]
     },
     "metadata": {},
     "output_type": "display_data"
    }
   ],
   "source": [
    "plt.figure(figsize=(18,6))\n",
    "plt.bar(columns, x10)\n",
    "plt.xlabel(\"Decyzja\")\n",
    "plt.ylabel(\"Żal\")\n",
    "plt.title(\"Wartość funkcji żalu w zależności od wyniku danej heurystyki przeprowadzonej na danym scenariuszu dla 10 zadań\")\n",
    "plt.show()"
   ]
  },
  {
   "cell_type": "code",
   "execution_count": 48,
   "id": "75d0f7c0",
   "metadata": {},
   "outputs": [
    {
     "data": {
      "image/png": "[encoded data removed]",
      "text/plain": [
       "<Figure size 1800x600 with 1 Axes>"
      ]
     },
     "metadata": {},
     "output_type": "display_data"
    }
   ],
   "source": [
    "plt.figure(figsize=(18,6))\n",
    "plt.bar(columns, x50)\n",
    "plt.xlabel(\"Decyzja\")\n",
    "plt.ylabel(\"Żal\")\n",
    "plt.title(\"Wartość funkcji żalu w zależności od wyniku danej heurystyki przeprowadzonej na danym scenariuszu dla 50 zadań\")\n",
    "plt.show()"
   ]
  },
  {
   "cell_type": "code",
   "execution_count": null,
   "id": "4cb94762",
   "metadata": {},
   "outputs": [],
   "source": []
  }
 ],
 "metadata": {
  "kernelspec": {
   "display_name": "Python 3 (ipykernel)",
   "language": "python",
   "name": "python3"
  },
  "language_info": {
   "codemirror_mode": {
    "name": "ipython",
    "version": 3
   },
   "file_extension": ".py",
   "mimetype": "text/x-python",
   "name": "python",
   "nbconvert_exporter": "python",
   "pygments_lexer": "ipython3",
   "version": "3.9.13"
  }
 },
 "nbformat": 4,
 "nbformat_minor": 5
}
